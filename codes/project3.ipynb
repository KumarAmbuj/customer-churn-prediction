{
 "cells": [
  {
   "cell_type": "code",
   "execution_count": 1,
   "metadata": {},
   "outputs": [],
   "source": [
    "import pandas as pd\n",
    "import numpy as np\n",
    "import seaborn as sns\n",
    "import matplotlib.pyplot as plt"
   ]
  },
  {
   "cell_type": "code",
   "execution_count": 2,
   "metadata": {},
   "outputs": [
    {
     "data": {
      "text/html": [
       "<div>\n",
       "<style scoped>\n",
       "    .dataframe tbody tr th:only-of-type {\n",
       "        vertical-align: middle;\n",
       "    }\n",
       "\n",
       "    .dataframe tbody tr th {\n",
       "        vertical-align: top;\n",
       "    }\n",
       "\n",
       "    .dataframe thead th {\n",
       "        text-align: right;\n",
       "    }\n",
       "</style>\n",
       "<table border=\"1\" class=\"dataframe\">\n",
       "  <thead>\n",
       "    <tr style=\"text-align: right;\">\n",
       "      <th></th>\n",
       "      <th>AccountNumber</th>\n",
       "      <th>AccountName</th>\n",
       "      <th>CompleteCustomerChurn</th>\n",
       "      <th>CustomerAgeCategoryIndicator</th>\n",
       "      <th>AcctPaymentStatusIndicator</th>\n",
       "      <th>RepChangesinLast002Months_SUM</th>\n",
       "      <th>NumberOfProductionInstances_SUM</th>\n",
       "      <th>OptyWonLast12Months_Percent_SUM</th>\n",
       "      <th>OverallEngagementSatisfactionIndicator_SUM</th>\n",
       "      <th>FulfillerPriceCategoryIndicator</th>\n",
       "      <th>KnowledgeEventAttendeeCount</th>\n",
       "      <th>TotalAdoptionPercent</th>\n",
       "      <th>LicensedAdoptionPercent</th>\n",
       "      <th>AdoptionCategoryIndicator</th>\n",
       "      <th>LicensingCategoryIndicator</th>\n",
       "      <th>ResponseRatePercent</th>\n",
       "      <th>NPSSatisfactionIndicator_SUM</th>\n",
       "      <th>OverallSupportSurveySatisfactionIndicator_SUM</th>\n",
       "      <th>UsageRiskIndicator_SUM</th>\n",
       "      <th>TotalActivityCount_SUM</th>\n",
       "    </tr>\n",
       "  </thead>\n",
       "  <tbody>\n",
       "    <tr>\n",
       "      <td>0</td>\n",
       "      <td>ACCT0000005</td>\n",
       "      <td>WagerWorks, Inc.</td>\n",
       "      <td>1</td>\n",
       "      <td>1.000000</td>\n",
       "      <td>1</td>\n",
       "      <td>0.2</td>\n",
       "      <td>0.0000</td>\n",
       "      <td>0.0000</td>\n",
       "      <td>0.5</td>\n",
       "      <td>0.5</td>\n",
       "      <td>0.04</td>\n",
       "      <td>0.359997</td>\n",
       "      <td>0.093836</td>\n",
       "      <td>0.750000</td>\n",
       "      <td>0.333333</td>\n",
       "      <td>0.272750</td>\n",
       "      <td>0.176471</td>\n",
       "      <td>0.294118</td>\n",
       "      <td>0.000000</td>\n",
       "      <td>0.144578</td>\n",
       "    </tr>\n",
       "    <tr>\n",
       "      <td>1</td>\n",
       "      <td>ACCT0000006</td>\n",
       "      <td>OUHSC IT</td>\n",
       "      <td>0</td>\n",
       "      <td>1.000000</td>\n",
       "      <td>1</td>\n",
       "      <td>0.4</td>\n",
       "      <td>0.2857</td>\n",
       "      <td>0.5000</td>\n",
       "      <td>0.0</td>\n",
       "      <td>0.0</td>\n",
       "      <td>0.20</td>\n",
       "      <td>0.481480</td>\n",
       "      <td>0.092100</td>\n",
       "      <td>1.000000</td>\n",
       "      <td>0.333333</td>\n",
       "      <td>0.272750</td>\n",
       "      <td>0.176471</td>\n",
       "      <td>0.294118</td>\n",
       "      <td>0.083333</td>\n",
       "      <td>0.851406</td>\n",
       "    </tr>\n",
       "    <tr>\n",
       "      <td>2</td>\n",
       "      <td>ACCT0000011</td>\n",
       "      <td>Allstate Corporation</td>\n",
       "      <td>0</td>\n",
       "      <td>0.666667</td>\n",
       "      <td>1</td>\n",
       "      <td>0.0</td>\n",
       "      <td>0.0000</td>\n",
       "      <td>0.2222</td>\n",
       "      <td>0.0</td>\n",
       "      <td>0.0</td>\n",
       "      <td>0.24</td>\n",
       "      <td>0.518510</td>\n",
       "      <td>0.099185</td>\n",
       "      <td>1.000000</td>\n",
       "      <td>0.333333</td>\n",
       "      <td>0.345478</td>\n",
       "      <td>0.176471</td>\n",
       "      <td>0.294118</td>\n",
       "      <td>0.000000</td>\n",
       "      <td>0.242972</td>\n",
       "    </tr>\n",
       "    <tr>\n",
       "      <td>3</td>\n",
       "      <td>ACCT0000026</td>\n",
       "      <td>Clark County Nevada</td>\n",
       "      <td>0</td>\n",
       "      <td>1.000000</td>\n",
       "      <td>1</td>\n",
       "      <td>0.2</td>\n",
       "      <td>0.0000</td>\n",
       "      <td>0.6666</td>\n",
       "      <td>0.0</td>\n",
       "      <td>0.5</td>\n",
       "      <td>0.24</td>\n",
       "      <td>0.444440</td>\n",
       "      <td>0.085016</td>\n",
       "      <td>0.750000</td>\n",
       "      <td>0.333333</td>\n",
       "      <td>0.272750</td>\n",
       "      <td>0.176471</td>\n",
       "      <td>0.411765</td>\n",
       "      <td>0.000000</td>\n",
       "      <td>0.549197</td>\n",
       "    </tr>\n",
       "    <tr>\n",
       "      <td>4</td>\n",
       "      <td>ACCT0000029</td>\n",
       "      <td>AAA Northern California, Nevada &amp; Utah Insuran...</td>\n",
       "      <td>0</td>\n",
       "      <td>0.666667</td>\n",
       "      <td>1</td>\n",
       "      <td>0.2</td>\n",
       "      <td>0.0000</td>\n",
       "      <td>1.0000</td>\n",
       "      <td>0.0</td>\n",
       "      <td>0.0</td>\n",
       "      <td>0.20</td>\n",
       "      <td>0.555550</td>\n",
       "      <td>0.099628</td>\n",
       "      <td>1.000000</td>\n",
       "      <td>0.666667</td>\n",
       "      <td>0.272750</td>\n",
       "      <td>0.176471</td>\n",
       "      <td>0.529412</td>\n",
       "      <td>0.000000</td>\n",
       "      <td>0.491968</td>\n",
       "    </tr>\n",
       "    <tr>\n",
       "      <td>...</td>\n",
       "      <td>...</td>\n",
       "      <td>...</td>\n",
       "      <td>...</td>\n",
       "      <td>...</td>\n",
       "      <td>...</td>\n",
       "      <td>...</td>\n",
       "      <td>...</td>\n",
       "      <td>...</td>\n",
       "      <td>...</td>\n",
       "      <td>...</td>\n",
       "      <td>...</td>\n",
       "      <td>...</td>\n",
       "      <td>...</td>\n",
       "      <td>...</td>\n",
       "      <td>...</td>\n",
       "      <td>...</td>\n",
       "      <td>...</td>\n",
       "      <td>...</td>\n",
       "      <td>...</td>\n",
       "      <td>...</td>\n",
       "    </tr>\n",
       "    <tr>\n",
       "      <td>3552</td>\n",
       "      <td>ACCT0078498</td>\n",
       "      <td>Fujitsu - PersoPoint</td>\n",
       "      <td>0</td>\n",
       "      <td>0.000000</td>\n",
       "      <td>1</td>\n",
       "      <td>0.2</td>\n",
       "      <td>0.0000</td>\n",
       "      <td>1.0000</td>\n",
       "      <td>0.0</td>\n",
       "      <td>0.0</td>\n",
       "      <td>0.04</td>\n",
       "      <td>0.359997</td>\n",
       "      <td>0.093836</td>\n",
       "      <td>0.750000</td>\n",
       "      <td>0.333333</td>\n",
       "      <td>0.272750</td>\n",
       "      <td>0.176471</td>\n",
       "      <td>0.294118</td>\n",
       "      <td>0.000000</td>\n",
       "      <td>0.001004</td>\n",
       "    </tr>\n",
       "    <tr>\n",
       "      <td>3553</td>\n",
       "      <td>ACCT0079312</td>\n",
       "      <td>Westfield Labs Corp</td>\n",
       "      <td>0</td>\n",
       "      <td>0.000000</td>\n",
       "      <td>1</td>\n",
       "      <td>0.0</td>\n",
       "      <td>0.0000</td>\n",
       "      <td>1.0000</td>\n",
       "      <td>0.0</td>\n",
       "      <td>1.0</td>\n",
       "      <td>0.04</td>\n",
       "      <td>0.359997</td>\n",
       "      <td>0.093836</td>\n",
       "      <td>0.750000</td>\n",
       "      <td>0.333333</td>\n",
       "      <td>0.272750</td>\n",
       "      <td>0.176471</td>\n",
       "      <td>0.294118</td>\n",
       "      <td>0.000000</td>\n",
       "      <td>0.144578</td>\n",
       "    </tr>\n",
       "    <tr>\n",
       "      <td>3554</td>\n",
       "      <td>ACCT0079408</td>\n",
       "      <td>IBM IS&amp;T</td>\n",
       "      <td>0</td>\n",
       "      <td>0.000000</td>\n",
       "      <td>1</td>\n",
       "      <td>0.0</td>\n",
       "      <td>0.0000</td>\n",
       "      <td>1.0000</td>\n",
       "      <td>0.0</td>\n",
       "      <td>0.5</td>\n",
       "      <td>0.04</td>\n",
       "      <td>0.359997</td>\n",
       "      <td>0.093836</td>\n",
       "      <td>0.750000</td>\n",
       "      <td>0.333333</td>\n",
       "      <td>0.272750</td>\n",
       "      <td>0.176471</td>\n",
       "      <td>0.294118</td>\n",
       "      <td>0.000000</td>\n",
       "      <td>0.029116</td>\n",
       "    </tr>\n",
       "    <tr>\n",
       "      <td>3555</td>\n",
       "      <td>ACCT0080144</td>\n",
       "      <td>Fujitsu - Frontoffice Center</td>\n",
       "      <td>0</td>\n",
       "      <td>0.000000</td>\n",
       "      <td>1</td>\n",
       "      <td>0.0</td>\n",
       "      <td>0.0000</td>\n",
       "      <td>1.0000</td>\n",
       "      <td>0.0</td>\n",
       "      <td>0.0</td>\n",
       "      <td>0.04</td>\n",
       "      <td>0.359997</td>\n",
       "      <td>0.093836</td>\n",
       "      <td>0.750000</td>\n",
       "      <td>0.333333</td>\n",
       "      <td>0.272750</td>\n",
       "      <td>0.176471</td>\n",
       "      <td>0.294118</td>\n",
       "      <td>0.000000</td>\n",
       "      <td>0.001004</td>\n",
       "    </tr>\n",
       "    <tr>\n",
       "      <td>3556</td>\n",
       "      <td>ACCT0080598</td>\n",
       "      <td>FX Innovation - Jean Coutu</td>\n",
       "      <td>0</td>\n",
       "      <td>0.000000</td>\n",
       "      <td>1</td>\n",
       "      <td>0.0</td>\n",
       "      <td>0.0000</td>\n",
       "      <td>1.0000</td>\n",
       "      <td>0.0</td>\n",
       "      <td>0.5</td>\n",
       "      <td>0.04</td>\n",
       "      <td>0.359997</td>\n",
       "      <td>0.093836</td>\n",
       "      <td>0.333333</td>\n",
       "      <td>33.333000</td>\n",
       "      <td>0.047235</td>\n",
       "      <td>0.500000</td>\n",
       "      <td>0.294118</td>\n",
       "      <td>1.875000</td>\n",
       "      <td>0.144578</td>\n",
       "    </tr>\n",
       "  </tbody>\n",
       "</table>\n",
       "<p>3557 rows × 20 columns</p>\n",
       "</div>"
      ],
      "text/plain": [
       "     AccountNumber                                        AccountName  \\\n",
       "0      ACCT0000005                                   WagerWorks, Inc.   \n",
       "1      ACCT0000006                                           OUHSC IT   \n",
       "2      ACCT0000011                               Allstate Corporation   \n",
       "3      ACCT0000026                                Clark County Nevada   \n",
       "4      ACCT0000029  AAA Northern California, Nevada & Utah Insuran...   \n",
       "...            ...                                                ...   \n",
       "3552   ACCT0078498                               Fujitsu - PersoPoint   \n",
       "3553   ACCT0079312                                Westfield Labs Corp   \n",
       "3554   ACCT0079408                                           IBM IS&T   \n",
       "3555   ACCT0080144                       Fujitsu - Frontoffice Center   \n",
       "3556   ACCT0080598                         FX Innovation - Jean Coutu   \n",
       "\n",
       "      CompleteCustomerChurn  CustomerAgeCategoryIndicator  \\\n",
       "0                         1                      1.000000   \n",
       "1                         0                      1.000000   \n",
       "2                         0                      0.666667   \n",
       "3                         0                      1.000000   \n",
       "4                         0                      0.666667   \n",
       "...                     ...                           ...   \n",
       "3552                      0                      0.000000   \n",
       "3553                      0                      0.000000   \n",
       "3554                      0                      0.000000   \n",
       "3555                      0                      0.000000   \n",
       "3556                      0                      0.000000   \n",
       "\n",
       "      AcctPaymentStatusIndicator  RepChangesinLast002Months_SUM  \\\n",
       "0                              1                            0.2   \n",
       "1                              1                            0.4   \n",
       "2                              1                            0.0   \n",
       "3                              1                            0.2   \n",
       "4                              1                            0.2   \n",
       "...                          ...                            ...   \n",
       "3552                           1                            0.2   \n",
       "3553                           1                            0.0   \n",
       "3554                           1                            0.0   \n",
       "3555                           1                            0.0   \n",
       "3556                           1                            0.0   \n",
       "\n",
       "      NumberOfProductionInstances_SUM  OptyWonLast12Months_Percent_SUM  \\\n",
       "0                              0.0000                           0.0000   \n",
       "1                              0.2857                           0.5000   \n",
       "2                              0.0000                           0.2222   \n",
       "3                              0.0000                           0.6666   \n",
       "4                              0.0000                           1.0000   \n",
       "...                               ...                              ...   \n",
       "3552                           0.0000                           1.0000   \n",
       "3553                           0.0000                           1.0000   \n",
       "3554                           0.0000                           1.0000   \n",
       "3555                           0.0000                           1.0000   \n",
       "3556                           0.0000                           1.0000   \n",
       "\n",
       "      OverallEngagementSatisfactionIndicator_SUM  \\\n",
       "0                                            0.5   \n",
       "1                                            0.0   \n",
       "2                                            0.0   \n",
       "3                                            0.0   \n",
       "4                                            0.0   \n",
       "...                                          ...   \n",
       "3552                                         0.0   \n",
       "3553                                         0.0   \n",
       "3554                                         0.0   \n",
       "3555                                         0.0   \n",
       "3556                                         0.0   \n",
       "\n",
       "      FulfillerPriceCategoryIndicator  KnowledgeEventAttendeeCount  \\\n",
       "0                                 0.5                         0.04   \n",
       "1                                 0.0                         0.20   \n",
       "2                                 0.0                         0.24   \n",
       "3                                 0.5                         0.24   \n",
       "4                                 0.0                         0.20   \n",
       "...                               ...                          ...   \n",
       "3552                              0.0                         0.04   \n",
       "3553                              1.0                         0.04   \n",
       "3554                              0.5                         0.04   \n",
       "3555                              0.0                         0.04   \n",
       "3556                              0.5                         0.04   \n",
       "\n",
       "      TotalAdoptionPercent  LicensedAdoptionPercent  \\\n",
       "0                 0.359997                 0.093836   \n",
       "1                 0.481480                 0.092100   \n",
       "2                 0.518510                 0.099185   \n",
       "3                 0.444440                 0.085016   \n",
       "4                 0.555550                 0.099628   \n",
       "...                    ...                      ...   \n",
       "3552              0.359997                 0.093836   \n",
       "3553              0.359997                 0.093836   \n",
       "3554              0.359997                 0.093836   \n",
       "3555              0.359997                 0.093836   \n",
       "3556              0.359997                 0.093836   \n",
       "\n",
       "      AdoptionCategoryIndicator  LicensingCategoryIndicator  \\\n",
       "0                      0.750000                    0.333333   \n",
       "1                      1.000000                    0.333333   \n",
       "2                      1.000000                    0.333333   \n",
       "3                      0.750000                    0.333333   \n",
       "4                      1.000000                    0.666667   \n",
       "...                         ...                         ...   \n",
       "3552                   0.750000                    0.333333   \n",
       "3553                   0.750000                    0.333333   \n",
       "3554                   0.750000                    0.333333   \n",
       "3555                   0.750000                    0.333333   \n",
       "3556                   0.333333                   33.333000   \n",
       "\n",
       "      ResponseRatePercent  NPSSatisfactionIndicator_SUM  \\\n",
       "0                0.272750                      0.176471   \n",
       "1                0.272750                      0.176471   \n",
       "2                0.345478                      0.176471   \n",
       "3                0.272750                      0.176471   \n",
       "4                0.272750                      0.176471   \n",
       "...                   ...                           ...   \n",
       "3552             0.272750                      0.176471   \n",
       "3553             0.272750                      0.176471   \n",
       "3554             0.272750                      0.176471   \n",
       "3555             0.272750                      0.176471   \n",
       "3556             0.047235                      0.500000   \n",
       "\n",
       "      OverallSupportSurveySatisfactionIndicator_SUM  UsageRiskIndicator_SUM  \\\n",
       "0                                          0.294118                0.000000   \n",
       "1                                          0.294118                0.083333   \n",
       "2                                          0.294118                0.000000   \n",
       "3                                          0.411765                0.000000   \n",
       "4                                          0.529412                0.000000   \n",
       "...                                             ...                     ...   \n",
       "3552                                       0.294118                0.000000   \n",
       "3553                                       0.294118                0.000000   \n",
       "3554                                       0.294118                0.000000   \n",
       "3555                                       0.294118                0.000000   \n",
       "3556                                       0.294118                1.875000   \n",
       "\n",
       "      TotalActivityCount_SUM  \n",
       "0                   0.144578  \n",
       "1                   0.851406  \n",
       "2                   0.242972  \n",
       "3                   0.549197  \n",
       "4                   0.491968  \n",
       "...                      ...  \n",
       "3552                0.001004  \n",
       "3553                0.144578  \n",
       "3554                0.029116  \n",
       "3555                0.001004  \n",
       "3556                0.144578  \n",
       "\n",
       "[3557 rows x 20 columns]"
      ]
     },
     "execution_count": 2,
     "metadata": {},
     "output_type": "execute_result"
    }
   ],
   "source": [
    "dataset = pd.read_csv(\"H:/Decision Minds/folder1/FINALDATASETCopy.CSV\")\n",
    "dataset"
   ]
  },
  {
   "cell_type": "code",
   "execution_count": 3,
   "metadata": {},
   "outputs": [
    {
     "name": "stdout",
     "output_type": "stream",
     "text": [
      "Warning: Maximum number of iterations has been exceeded.\n",
      "         Current function value: 0.089876\n",
      "         Iterations: 35\n"
     ]
    },
    {
     "name": "stderr",
     "output_type": "stream",
     "text": [
      "c:\\users\\kumar ambuj\\appdata\\local\\programs\\python\\python37-32\\lib\\site-packages\\statsmodels\\base\\model.py:512: ConvergenceWarning: Maximum Likelihood optimization failed to converge. Check mle_retvals\n",
      "  \"Check mle_retvals\", ConvergenceWarning)\n"
     ]
    }
   ],
   "source": [
    "import numpy as np\n",
    "import statsmodels.formula.api as sm\n",
    "logit_model = sm.logit('CompleteCustomerChurn~CustomerAgeCategoryIndicator+AcctPaymentStatusIndicator+RepChangesinLast002Months_SUM+NumberOfProductionInstances_SUM+OptyWonLast12Months_Percent_SUM+OverallEngagementSatisfactionIndicator_SUM+FulfillerPriceCategoryIndicator+KnowledgeEventAttendeeCount+TotalAdoptionPercent+LicensedAdoptionPercent+AdoptionCategoryIndicator+LicensingCategoryIndicator+ResponseRatePercent+NPSSatisfactionIndicator_SUM+OverallSupportSurveySatisfactionIndicator_SUM+UsageRiskIndicator_SUM+TotalActivityCount_SUM',data = dataset).fit()"
   ]
  },
  {
   "cell_type": "code",
   "execution_count": 4,
   "metadata": {},
   "outputs": [
    {
     "name": "stdout",
     "output_type": "stream",
     "text": [
      "                             Logit Regression Results                            \n",
      "=================================================================================\n",
      "Dep. Variable:     CompleteCustomerChurn   No. Observations:                 3557\n",
      "Model:                             Logit   Df Residuals:                     3539\n",
      "Method:                              MLE   Df Model:                           17\n",
      "Date:                   Tue, 17 Dec 2019   Pseudo R-squ.:                  0.5638\n",
      "Time:                           13:22:56   Log-Likelihood:                -319.69\n",
      "converged:                         False   LL-Null:                       -732.82\n",
      "Covariance Type:               nonrobust   LLR p-value:                1.152e-164\n",
      "=================================================================================================================\n",
      "                                                    coef    std err          z      P>|z|      [0.025      0.975]\n",
      "-----------------------------------------------------------------------------------------------------------------\n",
      "Intercept                                         9.8586      1.444      6.829      0.000       7.029      12.688\n",
      "CustomerAgeCategoryIndicator                      2.9297      0.318      9.204      0.000       2.306       3.554\n",
      "AcctPaymentStatusIndicator                       -2.5488      0.989     -2.577      0.010      -4.487      -0.610\n",
      "RepChangesinLast002Months_SUM                     0.9332      0.622      1.501      0.133      -0.285       2.151\n",
      "NumberOfProductionInstances_SUM                -115.0146   1.45e+04     -0.008      0.994   -2.85e+04    2.83e+04\n",
      "OptyWonLast12Months_Percent_SUM                  -2.6064      0.289     -9.018      0.000      -3.173      -2.040\n",
      "OverallEngagementSatisfactionIndicator_SUM       -2.2583      1.228     -1.839      0.066      -4.666       0.149\n",
      "FulfillerPriceCategoryIndicator                  -0.3408      0.323     -1.055      0.291      -0.974       0.292\n",
      "KnowledgeEventAttendeeCount                     -11.0275      4.071     -2.709      0.007     -19.006      -3.049\n",
      "TotalAdoptionPercent                            -71.3328      7.950     -8.973      0.000     -86.914     -55.752\n",
      "LicensedAdoptionPercent                           1.2374      1.054      1.174      0.240      -0.829       3.304\n",
      "AdoptionCategoryIndicator                        29.4605      3.299      8.930      0.000      22.995      35.926\n",
      "LicensingCategoryIndicator                        0.6048      0.092      6.546      0.000       0.424       0.786\n",
      "ResponseRatePercent                              -1.4892      1.044     -1.426      0.154      -3.535       0.557\n",
      "NPSSatisfactionIndicator_SUM                    -10.9637      2.859     -3.835      0.000     -16.567      -5.361\n",
      "OverallSupportSurveySatisfactionIndicator_SUM    -6.8983      2.084     -3.309      0.001     -10.984      -2.813\n",
      "UsageRiskIndicator_SUM                           -0.9972      0.763     -1.308      0.191      -2.492       0.498\n",
      "TotalActivityCount_SUM                           -0.4020      0.442     -0.908      0.364      -1.269       0.465\n",
      "=================================================================================================================\n",
      "\n",
      "Possibly complete quasi-separation: A fraction 0.39 of observations can be\n",
      "perfectly predicted. This might indicate that there is complete\n",
      "quasi-separation. In this case some parameters will not be identified.\n"
     ]
    }
   ],
   "source": [
    "print(logit_model.summary())"
   ]
  },
  {
   "cell_type": "code",
   "execution_count": 5,
   "metadata": {},
   "outputs": [
    {
     "data": {
      "text/plain": [
       "array([[3340.,   30.],\n",
       "       [  86.,  101.]])"
      ]
     },
     "execution_count": 5,
     "metadata": {},
     "output_type": "execute_result"
    }
   ],
   "source": [
    "logit_model.pred_table()"
   ]
  },
  {
   "cell_type": "code",
   "execution_count": 6,
   "metadata": {},
   "outputs": [
    {
     "data": {
      "text/plain": [
       "0.9673974142776841"
      ]
     },
     "execution_count": 6,
     "metadata": {},
     "output_type": "execute_result"
    }
   ],
   "source": [
    "accuracy=(3341+101)/(3341+30+86+101)\n",
    "accuracy"
   ]
  },
  {
   "cell_type": "code",
   "execution_count": 7,
   "metadata": {},
   "outputs": [],
   "source": [
    "#dropping feature RepChangesinLast002Months_SUM "
   ]
  },
  {
   "cell_type": "code",
   "execution_count": 8,
   "metadata": {},
   "outputs": [
    {
     "name": "stdout",
     "output_type": "stream",
     "text": [
      "Warning: Maximum number of iterations has been exceeded.\n",
      "         Current function value: 0.090189\n",
      "         Iterations: 35\n"
     ]
    },
    {
     "name": "stderr",
     "output_type": "stream",
     "text": [
      "c:\\users\\kumar ambuj\\appdata\\local\\programs\\python\\python37-32\\lib\\site-packages\\statsmodels\\base\\model.py:512: ConvergenceWarning: Maximum Likelihood optimization failed to converge. Check mle_retvals\n",
      "  \"Check mle_retvals\", ConvergenceWarning)\n"
     ]
    }
   ],
   "source": [
    "logit_model = sm.logit('CompleteCustomerChurn~CustomerAgeCategoryIndicator+AcctPaymentStatusIndicator+NumberOfProductionInstances_SUM+OptyWonLast12Months_Percent_SUM+OverallEngagementSatisfactionIndicator_SUM+FulfillerPriceCategoryIndicator+KnowledgeEventAttendeeCount+TotalAdoptionPercent+LicensedAdoptionPercent+AdoptionCategoryIndicator+LicensingCategoryIndicator+ResponseRatePercent+NPSSatisfactionIndicator_SUM+OverallSupportSurveySatisfactionIndicator_SUM+UsageRiskIndicator_SUM+TotalActivityCount_SUM',data = dataset).fit()"
   ]
  },
  {
   "cell_type": "code",
   "execution_count": 9,
   "metadata": {},
   "outputs": [
    {
     "name": "stdout",
     "output_type": "stream",
     "text": [
      "                             Logit Regression Results                            \n",
      "=================================================================================\n",
      "Dep. Variable:     CompleteCustomerChurn   No. Observations:                 3557\n",
      "Model:                             Logit   Df Residuals:                     3540\n",
      "Method:                              MLE   Df Model:                           16\n",
      "Date:                   Tue, 17 Dec 2019   Pseudo R-squ.:                  0.5622\n",
      "Time:                           13:22:57   Log-Likelihood:                -320.80\n",
      "converged:                         False   LL-Null:                       -732.82\n",
      "Covariance Type:               nonrobust   LLR p-value:                4.718e-165\n",
      "=================================================================================================================\n",
      "                                                    coef    std err          z      P>|z|      [0.025      0.975]\n",
      "-----------------------------------------------------------------------------------------------------------------\n",
      "Intercept                                        10.0932      1.420      7.106      0.000       7.309      12.877\n",
      "CustomerAgeCategoryIndicator                      2.9469      0.317      9.286      0.000       2.325       3.569\n",
      "AcctPaymentStatusIndicator                       -2.6517      0.965     -2.747      0.006      -4.544      -0.760\n",
      "NumberOfProductionInstances_SUM                -114.4913   1.34e+04     -0.009      0.993   -2.64e+04    2.61e+04\n",
      "OptyWonLast12Months_Percent_SUM                  -2.5882      0.288     -8.973      0.000      -3.154      -2.023\n",
      "OverallEngagementSatisfactionIndicator_SUM       -2.3460      1.236     -1.899      0.058      -4.768       0.076\n",
      "FulfillerPriceCategoryIndicator                  -0.3296      0.322     -1.025      0.305      -0.960       0.301\n",
      "KnowledgeEventAttendeeCount                     -11.3252      4.042     -2.802      0.005     -19.247      -3.403\n",
      "TotalAdoptionPercent                            -71.4023      7.935     -8.999      0.000     -86.954     -55.850\n",
      "LicensedAdoptionPercent                           1.2277      1.050      1.169      0.242      -0.831       3.286\n",
      "AdoptionCategoryIndicator                        29.4688      3.292      8.952      0.000      23.017      35.921\n",
      "LicensingCategoryIndicator                        0.6028      0.093      6.512      0.000       0.421       0.784\n",
      "ResponseRatePercent                              -1.5013      1.042     -1.441      0.150      -3.544       0.541\n",
      "NPSSatisfactionIndicator_SUM                    -11.0528      2.894     -3.819      0.000     -16.726      -5.380\n",
      "OverallSupportSurveySatisfactionIndicator_SUM    -6.7479      2.054     -3.286      0.001     -10.773      -2.723\n",
      "UsageRiskIndicator_SUM                           -1.0323      0.758     -1.361      0.173      -2.519       0.454\n",
      "TotalActivityCount_SUM                           -0.4203      0.450     -0.934      0.350      -1.302       0.461\n",
      "=================================================================================================================\n",
      "\n",
      "Possibly complete quasi-separation: A fraction 0.39 of observations can be\n",
      "perfectly predicted. This might indicate that there is complete\n",
      "quasi-separation. In this case some parameters will not be identified.\n"
     ]
    }
   ],
   "source": [
    "print(logit_model.summary())"
   ]
  },
  {
   "cell_type": "code",
   "execution_count": 10,
   "metadata": {},
   "outputs": [
    {
     "data": {
      "text/plain": [
       "array([[3339.,   31.],\n",
       "       [  82.,  105.]])"
      ]
     },
     "execution_count": 10,
     "metadata": {},
     "output_type": "execute_result"
    }
   ],
   "source": [
    "logit_model.pred_table()"
   ]
  },
  {
   "cell_type": "code",
   "execution_count": 11,
   "metadata": {},
   "outputs": [
    {
     "data": {
      "text/plain": [
       "0.9682405845980888"
      ]
     },
     "execution_count": 11,
     "metadata": {},
     "output_type": "execute_result"
    }
   ],
   "source": [
    "accuracy=(3340+105)/(3340+31+82+105)\n",
    "accuracy"
   ]
  },
  {
   "cell_type": "code",
   "execution_count": 12,
   "metadata": {},
   "outputs": [],
   "source": [
    "# dropping feature NumberOfProductionInstances_SUM"
   ]
  },
  {
   "cell_type": "code",
   "execution_count": 13,
   "metadata": {},
   "outputs": [
    {
     "name": "stdout",
     "output_type": "stream",
     "text": [
      "Optimization terminated successfully.\n",
      "         Current function value: 0.091061\n",
      "         Iterations 12\n"
     ]
    }
   ],
   "source": [
    "logit_model = sm.logit('CompleteCustomerChurn~CustomerAgeCategoryIndicator+AcctPaymentStatusIndicator+OptyWonLast12Months_Percent_SUM+OverallEngagementSatisfactionIndicator_SUM+FulfillerPriceCategoryIndicator+KnowledgeEventAttendeeCount+TotalAdoptionPercent+LicensedAdoptionPercent+AdoptionCategoryIndicator+LicensingCategoryIndicator+ResponseRatePercent+NPSSatisfactionIndicator_SUM+OverallSupportSurveySatisfactionIndicator_SUM+UsageRiskIndicator_SUM+TotalActivityCount_SUM',data = dataset).fit()"
   ]
  },
  {
   "cell_type": "code",
   "execution_count": 14,
   "metadata": {},
   "outputs": [
    {
     "name": "stdout",
     "output_type": "stream",
     "text": [
      "                             Logit Regression Results                            \n",
      "=================================================================================\n",
      "Dep. Variable:     CompleteCustomerChurn   No. Observations:                 3557\n",
      "Model:                             Logit   Df Residuals:                     3541\n",
      "Method:                              MLE   Df Model:                           15\n",
      "Date:                   Tue, 17 Dec 2019   Pseudo R-squ.:                  0.5580\n",
      "Time:                           13:22:59   Log-Likelihood:                -323.90\n",
      "converged:                          True   LL-Null:                       -732.82\n",
      "Covariance Type:               nonrobust   LLR p-value:                1.323e-164\n",
      "=================================================================================================================\n",
      "                                                    coef    std err          z      P>|z|      [0.025      0.975]\n",
      "-----------------------------------------------------------------------------------------------------------------\n",
      "Intercept                                        10.2806      1.424      7.222      0.000       7.491      13.071\n",
      "CustomerAgeCategoryIndicator                      2.9176      0.316      9.223      0.000       2.298       3.538\n",
      "AcctPaymentStatusIndicator                       -2.6791      0.970     -2.761      0.006      -4.581      -0.777\n",
      "OptyWonLast12Months_Percent_SUM                  -2.6380      0.288     -9.163      0.000      -3.202      -2.074\n",
      "OverallEngagementSatisfactionIndicator_SUM       -2.3202      1.235     -1.879      0.060      -4.741       0.100\n",
      "FulfillerPriceCategoryIndicator                  -0.2895      0.319     -0.908      0.364      -0.915       0.336\n",
      "KnowledgeEventAttendeeCount                     -11.3571      4.039     -2.812      0.005     -19.273      -3.441\n",
      "TotalAdoptionPercent                            -72.9604      7.966     -9.159      0.000     -88.573     -57.348\n",
      "LicensedAdoptionPercent                           0.7829      1.021      0.767      0.443      -1.217       2.783\n",
      "AdoptionCategoryIndicator                        30.0513      3.311      9.077      0.000      23.562      36.540\n",
      "LicensingCategoryIndicator                        0.6138      0.093      6.598      0.000       0.431       0.796\n",
      "ResponseRatePercent                              -1.3995      1.014     -1.380      0.168      -3.387       0.588\n",
      "NPSSatisfactionIndicator_SUM                    -11.1654      2.881     -3.876      0.000     -16.812      -5.519\n",
      "OverallSupportSurveySatisfactionIndicator_SUM    -6.7491      2.047     -3.297      0.001     -10.761      -2.737\n",
      "UsageRiskIndicator_SUM                           -1.0607      0.764     -1.389      0.165      -2.557       0.436\n",
      "TotalActivityCount_SUM                           -0.4204      0.454     -0.926      0.354      -1.310       0.469\n",
      "=================================================================================================================\n",
      "\n",
      "Possibly complete quasi-separation: A fraction 0.38 of observations can be\n",
      "perfectly predicted. This might indicate that there is complete\n",
      "quasi-separation. In this case some parameters will not be identified.\n"
     ]
    }
   ],
   "source": [
    "print(logit_model.summary())"
   ]
  },
  {
   "cell_type": "code",
   "execution_count": 15,
   "metadata": {},
   "outputs": [
    {
     "data": {
      "text/plain": [
       "array([[3339.,   31.],\n",
       "       [  82.,  105.]])"
      ]
     },
     "execution_count": 15,
     "metadata": {},
     "output_type": "execute_result"
    }
   ],
   "source": [
    "logit_model.pred_table()"
   ]
  },
  {
   "cell_type": "code",
   "execution_count": 16,
   "metadata": {},
   "outputs": [
    {
     "data": {
      "text/plain": [
       "0.9682405845980888"
      ]
     },
     "execution_count": 16,
     "metadata": {},
     "output_type": "execute_result"
    }
   ],
   "source": [
    "accuracy=(3340+105)/(3340+31+82+105)\n",
    "accuracy"
   ]
  },
  {
   "cell_type": "code",
   "execution_count": 17,
   "metadata": {},
   "outputs": [],
   "source": [
    "# dropping feature FulfillerPriceCategoryIndicator"
   ]
  },
  {
   "cell_type": "code",
   "execution_count": 18,
   "metadata": {},
   "outputs": [
    {
     "name": "stdout",
     "output_type": "stream",
     "text": [
      "Optimization terminated successfully.\n",
      "         Current function value: 0.091177\n",
      "         Iterations 12\n"
     ]
    }
   ],
   "source": [
    "logit_model = sm.logit('CompleteCustomerChurn~CustomerAgeCategoryIndicator+AcctPaymentStatusIndicator+OptyWonLast12Months_Percent_SUM+OverallEngagementSatisfactionIndicator_SUM+KnowledgeEventAttendeeCount+TotalAdoptionPercent+LicensedAdoptionPercent+AdoptionCategoryIndicator+LicensingCategoryIndicator+ResponseRatePercent+NPSSatisfactionIndicator_SUM+OverallSupportSurveySatisfactionIndicator_SUM+UsageRiskIndicator_SUM+TotalActivityCount_SUM',data = dataset).fit()"
   ]
  },
  {
   "cell_type": "code",
   "execution_count": 19,
   "metadata": {},
   "outputs": [
    {
     "name": "stdout",
     "output_type": "stream",
     "text": [
      "                             Logit Regression Results                            \n",
      "=================================================================================\n",
      "Dep. Variable:     CompleteCustomerChurn   No. Observations:                 3557\n",
      "Model:                             Logit   Df Residuals:                     3542\n",
      "Method:                              MLE   Df Model:                           14\n",
      "Date:                   Tue, 17 Dec 2019   Pseudo R-squ.:                  0.5574\n",
      "Time:                           13:22:59   Log-Likelihood:                -324.32\n",
      "converged:                          True   LL-Null:                       -732.82\n",
      "Covariance Type:               nonrobust   LLR p-value:                2.550e-165\n",
      "=================================================================================================================\n",
      "                                                    coef    std err          z      P>|z|      [0.025      0.975]\n",
      "-----------------------------------------------------------------------------------------------------------------\n",
      "Intercept                                        10.1244      1.408      7.190      0.000       7.364      12.884\n",
      "CustomerAgeCategoryIndicator                      2.9090      0.317      9.188      0.000       2.288       3.530\n",
      "AcctPaymentStatusIndicator                       -2.6879      0.971     -2.768      0.006      -4.591      -0.785\n",
      "OptyWonLast12Months_Percent_SUM                  -2.6383      0.288     -9.172      0.000      -3.202      -2.075\n",
      "OverallEngagementSatisfactionIndicator_SUM       -2.2847      1.236     -1.849      0.064      -4.706       0.137\n",
      "KnowledgeEventAttendeeCount                     -11.2446      4.009     -2.804      0.005     -19.103      -3.386\n",
      "TotalAdoptionPercent                            -73.2848      8.016     -9.143      0.000     -88.995     -57.575\n",
      "LicensedAdoptionPercent                           0.7949      1.008      0.789      0.430      -1.181       2.771\n",
      "AdoptionCategoryIndicator                        30.1878      3.332      9.059      0.000      23.657      36.719\n",
      "LicensingCategoryIndicator                        0.6140      0.094      6.564      0.000       0.431       0.797\n",
      "ResponseRatePercent                              -1.4663      1.016     -1.444      0.149      -3.457       0.524\n",
      "NPSSatisfactionIndicator_SUM                    -11.1148      2.881     -3.858      0.000     -16.762      -5.468\n",
      "OverallSupportSurveySatisfactionIndicator_SUM    -6.6081      2.024     -3.265      0.001     -10.574      -2.642\n",
      "UsageRiskIndicator_SUM                           -1.0689      0.772     -1.385      0.166      -2.582       0.444\n",
      "TotalActivityCount_SUM                           -0.4064      0.454     -0.896      0.370      -1.296       0.483\n",
      "=================================================================================================================\n",
      "\n",
      "Possibly complete quasi-separation: A fraction 0.38 of observations can be\n",
      "perfectly predicted. This might indicate that there is complete\n",
      "quasi-separation. In this case some parameters will not be identified.\n"
     ]
    }
   ],
   "source": [
    "print(logit_model.summary())"
   ]
  },
  {
   "cell_type": "code",
   "execution_count": 20,
   "metadata": {},
   "outputs": [
    {
     "data": {
      "text/plain": [
       "array([[3339.,   31.],\n",
       "       [  83.,  104.]])"
      ]
     },
     "execution_count": 20,
     "metadata": {},
     "output_type": "execute_result"
    }
   ],
   "source": [
    "logit_model.pred_table()"
   ]
  },
  {
   "cell_type": "code",
   "execution_count": 21,
   "metadata": {},
   "outputs": [
    {
     "data": {
      "text/plain": [
       "0.9679595278246206"
      ]
     },
     "execution_count": 21,
     "metadata": {},
     "output_type": "execute_result"
    }
   ],
   "source": [
    "accuracy=(3340+104)/(3340+31+83+104)\n",
    "accuracy"
   ]
  },
  {
   "cell_type": "code",
   "execution_count": 22,
   "metadata": {},
   "outputs": [],
   "source": [
    "# dropping feature LicensedAdoptionPercent"
   ]
  },
  {
   "cell_type": "code",
   "execution_count": 23,
   "metadata": {},
   "outputs": [
    {
     "name": "stdout",
     "output_type": "stream",
     "text": [
      "Optimization terminated successfully.\n",
      "         Current function value: 0.091249\n",
      "         Iterations 12\n"
     ]
    }
   ],
   "source": [
    "logit_model = sm.logit('CompleteCustomerChurn~CustomerAgeCategoryIndicator+AcctPaymentStatusIndicator+OptyWonLast12Months_Percent_SUM+OverallEngagementSatisfactionIndicator_SUM+KnowledgeEventAttendeeCount+TotalAdoptionPercent+AdoptionCategoryIndicator+LicensingCategoryIndicator+ResponseRatePercent+NPSSatisfactionIndicator_SUM+OverallSupportSurveySatisfactionIndicator_SUM+UsageRiskIndicator_SUM+TotalActivityCount_SUM',data = dataset).fit()"
   ]
  },
  {
   "cell_type": "code",
   "execution_count": 24,
   "metadata": {},
   "outputs": [
    {
     "data": {
      "text/plain": [
       "array([[3340.,   30.],\n",
       "       [  83.,  104.]])"
      ]
     },
     "execution_count": 24,
     "metadata": {},
     "output_type": "execute_result"
    }
   ],
   "source": [
    "logit_model.pred_table()"
   ]
  },
  {
   "cell_type": "code",
   "execution_count": 25,
   "metadata": {},
   "outputs": [
    {
     "data": {
      "text/plain": [
       "0.9682405845980888"
      ]
     },
     "execution_count": 25,
     "metadata": {},
     "output_type": "execute_result"
    }
   ],
   "source": [
    "accuracy=(3341+104)/(3341+30+83+104)\n",
    "accuracy"
   ]
  },
  {
   "cell_type": "code",
   "execution_count": 26,
   "metadata": {},
   "outputs": [
    {
     "name": "stdout",
     "output_type": "stream",
     "text": [
      "                             Logit Regression Results                            \n",
      "=================================================================================\n",
      "Dep. Variable:     CompleteCustomerChurn   No. Observations:                 3557\n",
      "Model:                             Logit   Df Residuals:                     3543\n",
      "Method:                              MLE   Df Model:                           13\n",
      "Date:                   Tue, 17 Dec 2019   Pseudo R-squ.:                  0.5571\n",
      "Time:                           13:23:01   Log-Likelihood:                -324.57\n",
      "converged:                          True   LL-Null:                       -732.82\n",
      "Covariance Type:               nonrobust   LLR p-value:                4.067e-166\n",
      "=================================================================================================================\n",
      "                                                    coef    std err          z      P>|z|      [0.025      0.975]\n",
      "-----------------------------------------------------------------------------------------------------------------\n",
      "Intercept                                        10.1414      1.408      7.205      0.000       7.383      12.900\n",
      "CustomerAgeCategoryIndicator                      2.9052      0.317      9.179      0.000       2.285       3.526\n",
      "AcctPaymentStatusIndicator                       -2.6905      0.971     -2.770      0.006      -4.594      -0.787\n",
      "OptyWonLast12Months_Percent_SUM                  -2.6280      0.287     -9.156      0.000      -3.191      -2.065\n",
      "OverallEngagementSatisfactionIndicator_SUM       -2.2926      1.235     -1.856      0.063      -4.714       0.128\n",
      "KnowledgeEventAttendeeCount                     -11.2576      4.009     -2.808      0.005     -19.115      -3.401\n",
      "TotalAdoptionPercent                            -73.0004      7.966     -9.164      0.000     -88.614     -57.387\n",
      "AdoptionCategoryIndicator                        30.1577      3.318      9.089      0.000      23.654      36.661\n",
      "LicensingCategoryIndicator                        0.6114      0.094      6.516      0.000       0.427       0.795\n",
      "ResponseRatePercent                              -1.5079      1.018     -1.481      0.139      -3.504       0.488\n",
      "NPSSatisfactionIndicator_SUM                    -11.1278      2.874     -3.872      0.000     -16.761      -5.495\n",
      "OverallSupportSurveySatisfactionIndicator_SUM    -6.6319      2.020     -3.283      0.001     -10.591      -2.673\n",
      "UsageRiskIndicator_SUM                           -1.0573      0.769     -1.375      0.169      -2.565       0.450\n",
      "TotalActivityCount_SUM                           -0.4007      0.450     -0.890      0.373      -1.283       0.481\n",
      "=================================================================================================================\n",
      "\n",
      "Possibly complete quasi-separation: A fraction 0.38 of observations can be\n",
      "perfectly predicted. This might indicate that there is complete\n",
      "quasi-separation. In this case some parameters will not be identified.\n"
     ]
    }
   ],
   "source": [
    "print(logit_model.summary())"
   ]
  },
  {
   "cell_type": "code",
   "execution_count": 27,
   "metadata": {},
   "outputs": [],
   "source": [
    "#dropping feature ResponseRatePercent"
   ]
  },
  {
   "cell_type": "code",
   "execution_count": 28,
   "metadata": {},
   "outputs": [
    {
     "name": "stdout",
     "output_type": "stream",
     "text": [
      "Optimization terminated successfully.\n",
      "         Current function value: 0.091598\n",
      "         Iterations 12\n"
     ]
    }
   ],
   "source": [
    "logit_model = sm.logit('CompleteCustomerChurn~CustomerAgeCategoryIndicator+AcctPaymentStatusIndicator+OptyWonLast12Months_Percent_SUM+OverallEngagementSatisfactionIndicator_SUM+KnowledgeEventAttendeeCount+TotalAdoptionPercent+AdoptionCategoryIndicator+LicensingCategoryIndicator+NPSSatisfactionIndicator_SUM+OverallSupportSurveySatisfactionIndicator_SUM+UsageRiskIndicator_SUM+TotalActivityCount_SUM',data = dataset).fit()"
   ]
  },
  {
   "cell_type": "code",
   "execution_count": 29,
   "metadata": {},
   "outputs": [
    {
     "data": {
      "text/plain": [
       "array([[3338.,   32.],\n",
       "       [  83.,  104.]])"
      ]
     },
     "execution_count": 29,
     "metadata": {},
     "output_type": "execute_result"
    }
   ],
   "source": [
    "logit_model.pred_table()"
   ]
  },
  {
   "cell_type": "code",
   "execution_count": 30,
   "metadata": {},
   "outputs": [
    {
     "data": {
      "text/plain": [
       "0.9676784710511523"
      ]
     },
     "execution_count": 30,
     "metadata": {},
     "output_type": "execute_result"
    }
   ],
   "source": [
    "accuracy=(3339+104)/(3339+32+83+104)\n",
    "accuracy"
   ]
  },
  {
   "cell_type": "code",
   "execution_count": 31,
   "metadata": {
    "scrolled": true
   },
   "outputs": [
    {
     "name": "stdout",
     "output_type": "stream",
     "text": [
      "                             Logit Regression Results                            \n",
      "=================================================================================\n",
      "Dep. Variable:     CompleteCustomerChurn   No. Observations:                 3557\n",
      "Model:                             Logit   Df Residuals:                     3544\n",
      "Method:                              MLE   Df Model:                           12\n",
      "Date:                   Tue, 17 Dec 2019   Pseudo R-squ.:                  0.5554\n",
      "Time:                           13:23:01   Log-Likelihood:                -325.82\n",
      "converged:                          True   LL-Null:                       -732.82\n",
      "Covariance Type:               nonrobust   LLR p-value:                1.643e-166\n",
      "=================================================================================================================\n",
      "                                                    coef    std err          z      P>|z|      [0.025      0.975]\n",
      "-----------------------------------------------------------------------------------------------------------------\n",
      "Intercept                                         9.9763      1.394      7.157      0.000       7.244      12.708\n",
      "CustomerAgeCategoryIndicator                      2.9089      0.316      9.206      0.000       2.290       3.528\n",
      "AcctPaymentStatusIndicator                       -2.6838      0.967     -2.776      0.005      -4.579      -0.789\n",
      "OptyWonLast12Months_Percent_SUM                  -2.6144      0.286     -9.139      0.000      -3.175      -2.054\n",
      "OverallEngagementSatisfactionIndicator_SUM       -2.2597      1.230     -1.836      0.066      -4.671       0.152\n",
      "KnowledgeEventAttendeeCount                     -11.2918      4.008     -2.817      0.005     -19.148      -3.436\n",
      "TotalAdoptionPercent                            -73.4223      7.950     -9.235      0.000     -89.004     -57.840\n",
      "AdoptionCategoryIndicator                        30.2991      3.313      9.145      0.000      23.805      36.793\n",
      "LicensingCategoryIndicator                        0.6369      0.093      6.859      0.000       0.455       0.819\n",
      "NPSSatisfactionIndicator_SUM                    -12.5849      2.797     -4.499      0.000     -18.067      -7.103\n",
      "OverallSupportSurveySatisfactionIndicator_SUM    -6.5656      2.003     -3.277      0.001     -10.492      -2.639\n",
      "UsageRiskIndicator_SUM                           -1.0375      0.769     -1.349      0.177      -2.545       0.470\n",
      "TotalActivityCount_SUM                           -0.4065      0.454     -0.896      0.370      -1.296       0.483\n",
      "=================================================================================================================\n",
      "\n",
      "Possibly complete quasi-separation: A fraction 0.37 of observations can be\n",
      "perfectly predicted. This might indicate that there is complete\n",
      "quasi-separation. In this case some parameters will not be identified.\n"
     ]
    }
   ],
   "source": [
    "print(logit_model.summary())"
   ]
  },
  {
   "cell_type": "code",
   "execution_count": 32,
   "metadata": {},
   "outputs": [],
   "source": [
    "# dropping feature UsageRiskIndicator_SUM"
   ]
  },
  {
   "cell_type": "code",
   "execution_count": 33,
   "metadata": {},
   "outputs": [
    {
     "name": "stdout",
     "output_type": "stream",
     "text": [
      "Optimization terminated successfully.\n",
      "         Current function value: 0.091884\n",
      "         Iterations 12\n"
     ]
    }
   ],
   "source": [
    "logit_model = sm.logit('CompleteCustomerChurn~CustomerAgeCategoryIndicator+AcctPaymentStatusIndicator+OptyWonLast12Months_Percent_SUM+OverallEngagementSatisfactionIndicator_SUM+KnowledgeEventAttendeeCount+TotalAdoptionPercent+AdoptionCategoryIndicator+LicensingCategoryIndicator+NPSSatisfactionIndicator_SUM+OverallSupportSurveySatisfactionIndicator_SUM+TotalActivityCount_SUM',data = dataset).fit()"
   ]
  },
  {
   "cell_type": "code",
   "execution_count": 34,
   "metadata": {},
   "outputs": [
    {
     "data": {
      "text/plain": [
       "array([[3340.,   30.],\n",
       "       [  82.,  105.]])"
      ]
     },
     "execution_count": 34,
     "metadata": {},
     "output_type": "execute_result"
    }
   ],
   "source": [
    "logit_model.pred_table()"
   ]
  },
  {
   "cell_type": "code",
   "execution_count": 35,
   "metadata": {},
   "outputs": [
    {
     "data": {
      "text/plain": [
       "0.9688026981450253"
      ]
     },
     "execution_count": 35,
     "metadata": {},
     "output_type": "execute_result"
    }
   ],
   "source": [
    "accuracy=(3342+105)/(3342+105+82+29)\n",
    "accuracy"
   ]
  },
  {
   "cell_type": "code",
   "execution_count": 36,
   "metadata": {},
   "outputs": [
    {
     "name": "stdout",
     "output_type": "stream",
     "text": [
      "                             Logit Regression Results                            \n",
      "=================================================================================\n",
      "Dep. Variable:     CompleteCustomerChurn   No. Observations:                 3557\n",
      "Model:                             Logit   Df Residuals:                     3545\n",
      "Method:                              MLE   Df Model:                           11\n",
      "Date:                   Tue, 17 Dec 2019   Pseudo R-squ.:                  0.5540\n",
      "Time:                           13:23:02   Log-Likelihood:                -326.83\n",
      "converged:                          True   LL-Null:                       -732.82\n",
      "Covariance Type:               nonrobust   LLR p-value:                5.092e-167\n",
      "=================================================================================================================\n",
      "                                                    coef    std err          z      P>|z|      [0.025      0.975]\n",
      "-----------------------------------------------------------------------------------------------------------------\n",
      "Intercept                                         9.8023      1.353      7.242      0.000       7.150      12.455\n",
      "CustomerAgeCategoryIndicator                      2.8986      0.316      9.182      0.000       2.280       3.517\n",
      "AcctPaymentStatusIndicator                       -2.5201      0.917     -2.748      0.006      -4.318      -0.723\n",
      "OptyWonLast12Months_Percent_SUM                  -2.6051      0.285     -9.139      0.000      -3.164      -2.046\n",
      "OverallEngagementSatisfactionIndicator_SUM       -2.2646      1.223     -1.852      0.064      -4.662       0.133\n",
      "KnowledgeEventAttendeeCount                     -11.1393      3.962     -2.812      0.005     -18.904      -3.374\n",
      "TotalAdoptionPercent                            -75.0019      7.946     -9.439      0.000     -90.576     -59.428\n",
      "AdoptionCategoryIndicator                        31.1295      3.297      9.443      0.000      24.668      37.591\n",
      "LicensingCategoryIndicator                        0.5879      0.085      6.911      0.000       0.421       0.755\n",
      "NPSSatisfactionIndicator_SUM                    -12.5281      2.793     -4.485      0.000     -18.002      -7.054\n",
      "OverallSupportSurveySatisfactionIndicator_SUM    -6.7942      1.978     -3.435      0.001     -10.671      -2.918\n",
      "TotalActivityCount_SUM                           -0.4024      0.457     -0.881      0.378      -1.297       0.492\n",
      "=================================================================================================================\n",
      "\n",
      "Possibly complete quasi-separation: A fraction 0.38 of observations can be\n",
      "perfectly predicted. This might indicate that there is complete\n",
      "quasi-separation. In this case some parameters will not be identified.\n"
     ]
    }
   ],
   "source": [
    "print(logit_model.summary())"
   ]
  },
  {
   "cell_type": "code",
   "execution_count": 37,
   "metadata": {},
   "outputs": [],
   "source": [
    "#dropping feature TotalActivityCount_SUM "
   ]
  },
  {
   "cell_type": "code",
   "execution_count": 38,
   "metadata": {},
   "outputs": [
    {
     "name": "stdout",
     "output_type": "stream",
     "text": [
      "Optimization terminated successfully.\n",
      "         Current function value: 0.092024\n",
      "         Iterations 11\n"
     ]
    }
   ],
   "source": [
    "logit_model = sm.logit('CompleteCustomerChurn~CustomerAgeCategoryIndicator+AcctPaymentStatusIndicator+OptyWonLast12Months_Percent_SUM+OverallEngagementSatisfactionIndicator_SUM+KnowledgeEventAttendeeCount+TotalAdoptionPercent+AdoptionCategoryIndicator+LicensingCategoryIndicator+NPSSatisfactionIndicator_SUM+OverallSupportSurveySatisfactionIndicator_SUM',data = dataset).fit()"
   ]
  },
  {
   "cell_type": "code",
   "execution_count": 39,
   "metadata": {},
   "outputs": [
    {
     "data": {
      "text/plain": [
       "array([[3341.,   29.],\n",
       "       [  81.,  106.]])"
      ]
     },
     "execution_count": 39,
     "metadata": {},
     "output_type": "execute_result"
    }
   ],
   "source": [
    "logit_model.pred_table()"
   ]
  },
  {
   "cell_type": "code",
   "execution_count": 40,
   "metadata": {},
   "outputs": [
    {
     "data": {
      "text/plain": [
       "0.9690837549184935"
      ]
     },
     "execution_count": 40,
     "metadata": {},
     "output_type": "execute_result"
    }
   ],
   "source": [
    "accuracy=(3342+106)/(3342+106+29+81)\n",
    "accuracy"
   ]
  },
  {
   "cell_type": "code",
   "execution_count": 41,
   "metadata": {},
   "outputs": [
    {
     "name": "stdout",
     "output_type": "stream",
     "text": [
      "                             Logit Regression Results                            \n",
      "=================================================================================\n",
      "Dep. Variable:     CompleteCustomerChurn   No. Observations:                 3557\n",
      "Model:                             Logit   Df Residuals:                     3546\n",
      "Method:                              MLE   Df Model:                           10\n",
      "Date:                   Tue, 17 Dec 2019   Pseudo R-squ.:                  0.5533\n",
      "Time:                           13:23:03   Log-Likelihood:                -327.33\n",
      "converged:                          True   LL-Null:                       -732.82\n",
      "Covariance Type:               nonrobust   LLR p-value:                9.027e-168\n",
      "=================================================================================================================\n",
      "                                                    coef    std err          z      P>|z|      [0.025      0.975]\n",
      "-----------------------------------------------------------------------------------------------------------------\n",
      "Intercept                                         9.7893      1.352      7.240      0.000       7.139      12.439\n",
      "CustomerAgeCategoryIndicator                      2.8656      0.314      9.134      0.000       2.251       3.481\n",
      "AcctPaymentStatusIndicator                       -2.5390      0.914     -2.778      0.005      -4.330      -0.748\n",
      "OptyWonLast12Months_Percent_SUM                  -2.6067      0.285     -9.148      0.000      -3.165      -2.048\n",
      "OverallEngagementSatisfactionIndicator_SUM       -2.2328      1.219     -1.831      0.067      -4.623       0.157\n",
      "KnowledgeEventAttendeeCount                     -11.8480      3.939     -3.008      0.003     -19.568      -4.128\n",
      "TotalAdoptionPercent                            -74.7341      7.936     -9.418      0.000     -90.287     -59.181\n",
      "AdoptionCategoryIndicator                        31.0081      3.290      9.424      0.000      24.559      37.457\n",
      "LicensingCategoryIndicator                        0.5840      0.085      6.855      0.000       0.417       0.751\n",
      "NPSSatisfactionIndicator_SUM                    -12.4067      2.782     -4.459      0.000     -17.860      -6.953\n",
      "OverallSupportSurveySatisfactionIndicator_SUM    -6.8013      1.990     -3.417      0.001     -10.702      -2.900\n",
      "=================================================================================================================\n",
      "\n",
      "Possibly complete quasi-separation: A fraction 0.38 of observations can be\n",
      "perfectly predicted. This might indicate that there is complete\n",
      "quasi-separation. In this case some parameters will not be identified.\n"
     ]
    }
   ],
   "source": [
    "print(logit_model.summary())"
   ]
  },
  {
   "cell_type": "code",
   "execution_count": null,
   "metadata": {},
   "outputs": [],
   "source": []
  }
 ],
 "metadata": {
  "kernelspec": {
   "display_name": "Python 3",
   "language": "python",
   "name": "python3"
  },
  "language_info": {
   "codemirror_mode": {
    "name": "ipython",
    "version": 3
   },
   "file_extension": ".py",
   "mimetype": "text/x-python",
   "name": "python",
   "nbconvert_exporter": "python",
   "pygments_lexer": "ipython3",
   "version": "3.7.1"
  }
 },
 "nbformat": 4,
 "nbformat_minor": 2
}
